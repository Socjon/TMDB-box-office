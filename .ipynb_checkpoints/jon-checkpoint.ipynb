{
 "cells": [
  {
   "cell_type": "code",
   "execution_count": 110,
   "metadata": {},
   "outputs": [],
   "source": [
    "import pandas as pd\n",
    "import ast #To read strings back into lists/dicts\n",
    "import copy\n",
    "from collections import Counter"
   ]
  },
  {
   "cell_type": "code",
   "execution_count": 39,
   "metadata": {},
   "outputs": [],
   "source": [
    "train = pd.read_csv('train.csv')\n",
    "test = pd.read_csv('test.csv')"
   ]
  },
  {
   "cell_type": "code",
   "execution_count": 4,
   "metadata": {
    "collapsed": true
   },
   "outputs": [
    {
     "name": "stdout",
     "output_type": "stream",
     "text": [
      "<class 'pandas.core.frame.DataFrame'>\n",
      "RangeIndex: 3000 entries, 0 to 2999\n",
      "Data columns (total 23 columns):\n",
      "id                       3000 non-null int64\n",
      "belongs_to_collection    604 non-null object\n",
      "budget                   3000 non-null int64\n",
      "genres                   2993 non-null object\n",
      "homepage                 946 non-null object\n",
      "imdb_id                  3000 non-null object\n",
      "original_language        3000 non-null object\n",
      "original_title           3000 non-null object\n",
      "overview                 2992 non-null object\n",
      "popularity               3000 non-null float64\n",
      "poster_path              2999 non-null object\n",
      "production_companies     2844 non-null object\n",
      "production_countries     2945 non-null object\n",
      "release_date             3000 non-null object\n",
      "runtime                  2998 non-null float64\n",
      "spoken_languages         2980 non-null object\n",
      "status                   3000 non-null object\n",
      "tagline                  2403 non-null object\n",
      "title                    3000 non-null object\n",
      "Keywords                 2724 non-null object\n",
      "cast                     2987 non-null object\n",
      "crew                     2984 non-null object\n",
      "revenue                  3000 non-null int64\n",
      "dtypes: float64(2), int64(3), object(18)\n",
      "memory usage: 539.1+ KB\n"
     ]
    }
   ],
   "source": [
    "train.info()"
   ]
  },
  {
   "cell_type": "code",
   "execution_count": 7,
   "metadata": {},
   "outputs": [
    {
     "name": "stdout",
     "output_type": "stream",
     "text": [
      "<class 'pandas.core.frame.DataFrame'>\n",
      "RangeIndex: 4398 entries, 0 to 4397\n",
      "Data columns (total 22 columns):\n",
      "id                       4398 non-null int64\n",
      "belongs_to_collection    877 non-null object\n",
      "budget                   4398 non-null int64\n",
      "genres                   4382 non-null object\n",
      "homepage                 1420 non-null object\n",
      "imdb_id                  4398 non-null object\n",
      "original_language        4398 non-null object\n",
      "original_title           4398 non-null object\n",
      "overview                 4384 non-null object\n",
      "popularity               4398 non-null float64\n",
      "poster_path              4397 non-null object\n",
      "production_companies     4140 non-null object\n",
      "production_countries     4296 non-null object\n",
      "release_date             4397 non-null object\n",
      "runtime                  4394 non-null float64\n",
      "spoken_languages         4356 non-null object\n",
      "status                   4396 non-null object\n",
      "tagline                  3535 non-null object\n",
      "title                    4395 non-null object\n",
      "Keywords                 4005 non-null object\n",
      "cast                     4385 non-null object\n",
      "crew                     4376 non-null object\n",
      "dtypes: float64(2), int64(2), object(18)\n",
      "memory usage: 756.0+ KB\n"
     ]
    }
   ],
   "source": [
    "test.info()"
   ]
  },
  {
   "cell_type": "code",
   "execution_count": 52,
   "metadata": {},
   "outputs": [
    {
     "data": {
      "text/html": [
       "<div>\n",
       "<style scoped>\n",
       "    .dataframe tbody tr th:only-of-type {\n",
       "        vertical-align: middle;\n",
       "    }\n",
       "\n",
       "    .dataframe tbody tr th {\n",
       "        vertical-align: top;\n",
       "    }\n",
       "\n",
       "    .dataframe thead th {\n",
       "        text-align: right;\n",
       "    }\n",
       "</style>\n",
       "<table border=\"1\" class=\"dataframe\">\n",
       "  <thead>\n",
       "    <tr style=\"text-align: right;\">\n",
       "      <th></th>\n",
       "      <th>id</th>\n",
       "      <th>budget</th>\n",
       "      <th>genres</th>\n",
       "      <th>homepage</th>\n",
       "      <th>imdb_id</th>\n",
       "      <th>original_language</th>\n",
       "      <th>original_title</th>\n",
       "      <th>overview</th>\n",
       "      <th>popularity</th>\n",
       "      <th>poster_path</th>\n",
       "      <th>...</th>\n",
       "      <th>spoken_languages</th>\n",
       "      <th>status</th>\n",
       "      <th>tagline</th>\n",
       "      <th>title</th>\n",
       "      <th>Keywords</th>\n",
       "      <th>cast</th>\n",
       "      <th>crew</th>\n",
       "      <th>revenue</th>\n",
       "      <th>collection_name</th>\n",
       "      <th>has_collection</th>\n",
       "    </tr>\n",
       "  </thead>\n",
       "  <tbody>\n",
       "    <tr>\n",
       "      <th>0</th>\n",
       "      <td>1</td>\n",
       "      <td>14000000</td>\n",
       "      <td>[{'id': 35, 'name': 'Comedy'}]</td>\n",
       "      <td>NaN</td>\n",
       "      <td>tt2637294</td>\n",
       "      <td>en</td>\n",
       "      <td>Hot Tub Time Machine 2</td>\n",
       "      <td>When Lou, who has become the \"father of the In...</td>\n",
       "      <td>6.575393</td>\n",
       "      <td>/tQtWuwvMf0hCc2QR2tkolwl7c3c.jpg</td>\n",
       "      <td>...</td>\n",
       "      <td>[{'iso_639_1': 'en', 'name': 'English'}]</td>\n",
       "      <td>Released</td>\n",
       "      <td>The Laws of Space and Time are About to be Vio...</td>\n",
       "      <td>Hot Tub Time Machine 2</td>\n",
       "      <td>[{'id': 4379, 'name': 'time travel'}, {'id': 9...</td>\n",
       "      <td>[{'cast_id': 4, 'character': 'Lou', 'credit_id...</td>\n",
       "      <td>[{'credit_id': '59ac067c92514107af02c8c8', 'de...</td>\n",
       "      <td>12314651</td>\n",
       "      <td>Hot Tub Time Machine Collection</td>\n",
       "      <td>1</td>\n",
       "    </tr>\n",
       "    <tr>\n",
       "      <th>1</th>\n",
       "      <td>2</td>\n",
       "      <td>40000000</td>\n",
       "      <td>[{'id': 35, 'name': 'Comedy'}, {'id': 18, 'nam...</td>\n",
       "      <td>NaN</td>\n",
       "      <td>tt0368933</td>\n",
       "      <td>en</td>\n",
       "      <td>The Princess Diaries 2: Royal Engagement</td>\n",
       "      <td>Mia Thermopolis is now a college graduate and ...</td>\n",
       "      <td>8.248895</td>\n",
       "      <td>/w9Z7A0GHEhIp7etpj0vyKOeU1Wx.jpg</td>\n",
       "      <td>...</td>\n",
       "      <td>[{'iso_639_1': 'en', 'name': 'English'}]</td>\n",
       "      <td>Released</td>\n",
       "      <td>It can take a lifetime to find true love; she'...</td>\n",
       "      <td>The Princess Diaries 2: Royal Engagement</td>\n",
       "      <td>[{'id': 2505, 'name': 'coronation'}, {'id': 42...</td>\n",
       "      <td>[{'cast_id': 1, 'character': 'Mia Thermopolis'...</td>\n",
       "      <td>[{'credit_id': '52fe43fe9251416c7502563d', 'de...</td>\n",
       "      <td>95149435</td>\n",
       "      <td>The Princess Diaries Collection</td>\n",
       "      <td>1</td>\n",
       "    </tr>\n",
       "    <tr>\n",
       "      <th>2</th>\n",
       "      <td>3</td>\n",
       "      <td>3300000</td>\n",
       "      <td>[{'id': 18, 'name': 'Drama'}]</td>\n",
       "      <td>http://sonyclassics.com/whiplash/</td>\n",
       "      <td>tt2582802</td>\n",
       "      <td>en</td>\n",
       "      <td>Whiplash</td>\n",
       "      <td>Under the direction of a ruthless instructor, ...</td>\n",
       "      <td>64.299990</td>\n",
       "      <td>/lIv1QinFqz4dlp5U4lQ6HaiskOZ.jpg</td>\n",
       "      <td>...</td>\n",
       "      <td>[{'iso_639_1': 'en', 'name': 'English'}]</td>\n",
       "      <td>Released</td>\n",
       "      <td>The road to greatness can take you to the edge.</td>\n",
       "      <td>Whiplash</td>\n",
       "      <td>[{'id': 1416, 'name': 'jazz'}, {'id': 1523, 'n...</td>\n",
       "      <td>[{'cast_id': 5, 'character': 'Andrew Neimann',...</td>\n",
       "      <td>[{'credit_id': '54d5356ec3a3683ba0000039', 'de...</td>\n",
       "      <td>13092000</td>\n",
       "      <td>0</td>\n",
       "      <td>0</td>\n",
       "    </tr>\n",
       "    <tr>\n",
       "      <th>3</th>\n",
       "      <td>4</td>\n",
       "      <td>1200000</td>\n",
       "      <td>[{'id': 53, 'name': 'Thriller'}, {'id': 18, 'n...</td>\n",
       "      <td>http://kahaanithefilm.com/</td>\n",
       "      <td>tt1821480</td>\n",
       "      <td>hi</td>\n",
       "      <td>Kahaani</td>\n",
       "      <td>Vidya Bagchi (Vidya Balan) arrives in Kolkata ...</td>\n",
       "      <td>3.174936</td>\n",
       "      <td>/aTXRaPrWSinhcmCrcfJK17urp3F.jpg</td>\n",
       "      <td>...</td>\n",
       "      <td>[{'iso_639_1': 'en', 'name': 'English'}, {'iso...</td>\n",
       "      <td>Released</td>\n",
       "      <td>NaN</td>\n",
       "      <td>Kahaani</td>\n",
       "      <td>[{'id': 10092, 'name': 'mystery'}, {'id': 1054...</td>\n",
       "      <td>[{'cast_id': 1, 'character': 'Vidya Bagchi', '...</td>\n",
       "      <td>[{'credit_id': '52fe48779251416c9108d6eb', 'de...</td>\n",
       "      <td>16000000</td>\n",
       "      <td>0</td>\n",
       "      <td>0</td>\n",
       "    </tr>\n",
       "    <tr>\n",
       "      <th>4</th>\n",
       "      <td>5</td>\n",
       "      <td>0</td>\n",
       "      <td>[{'id': 28, 'name': 'Action'}, {'id': 53, 'nam...</td>\n",
       "      <td>NaN</td>\n",
       "      <td>tt1380152</td>\n",
       "      <td>ko</td>\n",
       "      <td>마린보이</td>\n",
       "      <td>Marine Boy is the story of a former national s...</td>\n",
       "      <td>1.148070</td>\n",
       "      <td>/m22s7zvkVFDU9ir56PiiqIEWFdT.jpg</td>\n",
       "      <td>...</td>\n",
       "      <td>[{'iso_639_1': 'ko', 'name': '한국어/조선말'}]</td>\n",
       "      <td>Released</td>\n",
       "      <td>NaN</td>\n",
       "      <td>Marine Boy</td>\n",
       "      <td>{}</td>\n",
       "      <td>[{'cast_id': 3, 'character': 'Chun-soo', 'cred...</td>\n",
       "      <td>[{'credit_id': '52fe464b9251416c75073b43', 'de...</td>\n",
       "      <td>3923970</td>\n",
       "      <td>0</td>\n",
       "      <td>0</td>\n",
       "    </tr>\n",
       "  </tbody>\n",
       "</table>\n",
       "<p>5 rows × 24 columns</p>\n",
       "</div>"
      ],
      "text/plain": [
       "   id    budget                                             genres  \\\n",
       "0   1  14000000                     [{'id': 35, 'name': 'Comedy'}]   \n",
       "1   2  40000000  [{'id': 35, 'name': 'Comedy'}, {'id': 18, 'nam...   \n",
       "2   3   3300000                      [{'id': 18, 'name': 'Drama'}]   \n",
       "3   4   1200000  [{'id': 53, 'name': 'Thriller'}, {'id': 18, 'n...   \n",
       "4   5         0  [{'id': 28, 'name': 'Action'}, {'id': 53, 'nam...   \n",
       "\n",
       "                            homepage    imdb_id original_language  \\\n",
       "0                                NaN  tt2637294                en   \n",
       "1                                NaN  tt0368933                en   \n",
       "2  http://sonyclassics.com/whiplash/  tt2582802                en   \n",
       "3         http://kahaanithefilm.com/  tt1821480                hi   \n",
       "4                                NaN  tt1380152                ko   \n",
       "\n",
       "                             original_title  \\\n",
       "0                    Hot Tub Time Machine 2   \n",
       "1  The Princess Diaries 2: Royal Engagement   \n",
       "2                                  Whiplash   \n",
       "3                                   Kahaani   \n",
       "4                                      마린보이   \n",
       "\n",
       "                                            overview  popularity  \\\n",
       "0  When Lou, who has become the \"father of the In...    6.575393   \n",
       "1  Mia Thermopolis is now a college graduate and ...    8.248895   \n",
       "2  Under the direction of a ruthless instructor, ...   64.299990   \n",
       "3  Vidya Bagchi (Vidya Balan) arrives in Kolkata ...    3.174936   \n",
       "4  Marine Boy is the story of a former national s...    1.148070   \n",
       "\n",
       "                        poster_path      ...        \\\n",
       "0  /tQtWuwvMf0hCc2QR2tkolwl7c3c.jpg      ...         \n",
       "1  /w9Z7A0GHEhIp7etpj0vyKOeU1Wx.jpg      ...         \n",
       "2  /lIv1QinFqz4dlp5U4lQ6HaiskOZ.jpg      ...         \n",
       "3  /aTXRaPrWSinhcmCrcfJK17urp3F.jpg      ...         \n",
       "4  /m22s7zvkVFDU9ir56PiiqIEWFdT.jpg      ...         \n",
       "\n",
       "                                    spoken_languages    status  \\\n",
       "0           [{'iso_639_1': 'en', 'name': 'English'}]  Released   \n",
       "1           [{'iso_639_1': 'en', 'name': 'English'}]  Released   \n",
       "2           [{'iso_639_1': 'en', 'name': 'English'}]  Released   \n",
       "3  [{'iso_639_1': 'en', 'name': 'English'}, {'iso...  Released   \n",
       "4           [{'iso_639_1': 'ko', 'name': '한국어/조선말'}]  Released   \n",
       "\n",
       "                                             tagline  \\\n",
       "0  The Laws of Space and Time are About to be Vio...   \n",
       "1  It can take a lifetime to find true love; she'...   \n",
       "2    The road to greatness can take you to the edge.   \n",
       "3                                                NaN   \n",
       "4                                                NaN   \n",
       "\n",
       "                                      title  \\\n",
       "0                    Hot Tub Time Machine 2   \n",
       "1  The Princess Diaries 2: Royal Engagement   \n",
       "2                                  Whiplash   \n",
       "3                                   Kahaani   \n",
       "4                                Marine Boy   \n",
       "\n",
       "                                            Keywords  \\\n",
       "0  [{'id': 4379, 'name': 'time travel'}, {'id': 9...   \n",
       "1  [{'id': 2505, 'name': 'coronation'}, {'id': 42...   \n",
       "2  [{'id': 1416, 'name': 'jazz'}, {'id': 1523, 'n...   \n",
       "3  [{'id': 10092, 'name': 'mystery'}, {'id': 1054...   \n",
       "4                                                 {}   \n",
       "\n",
       "                                                cast  \\\n",
       "0  [{'cast_id': 4, 'character': 'Lou', 'credit_id...   \n",
       "1  [{'cast_id': 1, 'character': 'Mia Thermopolis'...   \n",
       "2  [{'cast_id': 5, 'character': 'Andrew Neimann',...   \n",
       "3  [{'cast_id': 1, 'character': 'Vidya Bagchi', '...   \n",
       "4  [{'cast_id': 3, 'character': 'Chun-soo', 'cred...   \n",
       "\n",
       "                                                crew   revenue  \\\n",
       "0  [{'credit_id': '59ac067c92514107af02c8c8', 'de...  12314651   \n",
       "1  [{'credit_id': '52fe43fe9251416c7502563d', 'de...  95149435   \n",
       "2  [{'credit_id': '54d5356ec3a3683ba0000039', 'de...  13092000   \n",
       "3  [{'credit_id': '52fe48779251416c9108d6eb', 'de...  16000000   \n",
       "4  [{'credit_id': '52fe464b9251416c75073b43', 'de...   3923970   \n",
       "\n",
       "                   collection_name has_collection  \n",
       "0  Hot Tub Time Machine Collection              1  \n",
       "1  The Princess Diaries Collection              1  \n",
       "2                                0              0  \n",
       "3                                0              0  \n",
       "4                                0              0  \n",
       "\n",
       "[5 rows x 24 columns]"
      ]
     },
     "execution_count": 52,
     "metadata": {},
     "output_type": "execute_result"
    }
   ],
   "source": [
    "train.head()"
   ]
  },
  {
   "cell_type": "code",
   "execution_count": 40,
   "metadata": {},
   "outputs": [],
   "source": [
    "dict_columns = ['belongs_to_collection', 'genres', 'production_companies',\n",
    "                'production_countries', 'spoken_languages', 'Keywords', 'cast', 'crew']\n",
    "\n",
    "def text_to_dict(df):\n",
    "    for column in dict_columns:\n",
    "        df[column] = df[column].apply(lambda x: {} if pd.isna(x) else ast.literal_eval(x) )\n",
    "    return df\n",
    "        \n",
    "train = text_to_dict(train)\n",
    "test = text_to_dict(test)\n"
   ]
  },
  {
   "cell_type": "markdown",
   "metadata": {},
   "source": [
    "Dealing with Collections"
   ]
  },
  {
   "cell_type": "code",
   "execution_count": 49,
   "metadata": {},
   "outputs": [],
   "source": [
    "train['belongs_to_collection'].apply(lambda x: len(x) if x != {} else 0).value_counts()\n",
    "\n",
    "train['collection_name'] = train['belongs_to_collection'].apply(lambda x: x[0]['name'] if x != {} else 0)\n",
    "train['has_collection'] = train['belongs_to_collection'].apply(lambda x: len(x) if x != {} else 0)\n",
    "\n",
    "test['collection_name'] = test['belongs_to_collection'].apply(lambda x: x[0]['name'] if x != {} else 0)\n",
    "test['has_collection'] = test['belongs_to_collection'].apply(lambda x: len(x) if x != {} else 0)\n",
    "\n",
    "train = train.drop(['belongs_to_collection'], axis=1)\n",
    "test = test.drop(['belongs_to_collection'], axis=1)\n",
    "\n"
   ]
  },
  {
   "cell_type": "markdown",
   "metadata": {},
   "source": [
    "Dealing with genres"
   ]
  },
  {
   "cell_type": "code",
   "execution_count": 69,
   "metadata": {},
   "outputs": [
    {
     "data": {
      "text/plain": [
       "[{'id': 35, 'name': 'Comedy'},\n",
       " {'id': 18, 'name': 'Drama'},\n",
       " {'id': 10751, 'name': 'Family'},\n",
       " {'id': 10749, 'name': 'Romance'}]"
      ]
     },
     "execution_count": 69,
     "metadata": {},
     "output_type": "execute_result"
    }
   ],
   "source": [
    "train.genres[1]"
   ]
  },
  {
   "cell_type": "code",
   "execution_count": 86,
   "metadata": {},
   "outputs": [
    {
     "data": {
      "text/plain": [
       "0       1\n",
       "1       4\n",
       "2       1\n",
       "3       2\n",
       "4       2\n",
       "5       3\n",
       "6       2\n",
       "7       1\n",
       "8       5\n",
       "9       2\n",
       "10      1\n",
       "11      1\n",
       "12      1\n",
       "13      2\n",
       "14      4\n",
       "15      3\n",
       "16      2\n",
       "17      2\n",
       "18      2\n",
       "19      3\n",
       "20      3\n",
       "21      2\n",
       "22      2\n",
       "23      3\n",
       "24      2\n",
       "25      4\n",
       "26      4\n",
       "27      3\n",
       "28      1\n",
       "29      4\n",
       "       ..\n",
       "2970    5\n",
       "2971    4\n",
       "2972    2\n",
       "2973    4\n",
       "2974    4\n",
       "2975    5\n",
       "2976    3\n",
       "2977    3\n",
       "2978    2\n",
       "2979    2\n",
       "2980    3\n",
       "2981    1\n",
       "2982    1\n",
       "2983    2\n",
       "2984    3\n",
       "2985    4\n",
       "2986    3\n",
       "2987    2\n",
       "2988    1\n",
       "2989    2\n",
       "2990    2\n",
       "2991    4\n",
       "2992    5\n",
       "2993    2\n",
       "2994    1\n",
       "2995    2\n",
       "2996    2\n",
       "2997    4\n",
       "2998    2\n",
       "2999    3\n",
       "Name: genres, Length: 3000, dtype: int64"
      ]
     },
     "execution_count": 86,
     "metadata": {},
     "output_type": "execute_result"
    }
   ],
   "source": [
    "train['genres'].apply(lambda x: len(x) if x != {} else 0)"
   ]
  },
  {
   "cell_type": "code",
   "execution_count": 85,
   "metadata": {},
   "outputs": [],
   "source": [
    "train['all_genres'] = train['genres'].apply(lambda x: ' '.join(sorted([i['name'] for i in x])) if x != {} else '')\n",
    "test['all_genres'] = test['genres'].apply(lambda x: ' '.join(sorted([i['name'] for i in x])) if x != {} else '')"
   ]
  },
  {
   "cell_type": "code",
   "execution_count": 87,
   "metadata": {},
   "outputs": [],
   "source": [
    "train['num_of_genres'] = train['genres'].apply(lambda x: len(x) if x != {} else 0)\n",
    "test['num_of_genres'] = test['genres'].apply(lambda x: len(x) if x != {} else 0)"
   ]
  },
  {
   "cell_type": "code",
   "execution_count": 88,
   "metadata": {},
   "outputs": [],
   "source": [
    "train = train.drop('genres', axis = 1)\n",
    "test = test.drop('genres', axis = 1)"
   ]
  },
  {
   "cell_type": "code",
   "execution_count": 98,
   "metadata": {},
   "outputs": [
    {
     "data": {
      "text/plain": [
       "1     775\n",
       "2     734\n",
       "3     582\n",
       "4     312\n",
       "5     166\n",
       "0     156\n",
       "6     118\n",
       "7      62\n",
       "8      42\n",
       "9      29\n",
       "11      7\n",
       "10      7\n",
       "12      3\n",
       "16      2\n",
       "15      2\n",
       "14      1\n",
       "13      1\n",
       "17      1\n",
       "Name: production_companies, dtype: int64"
      ]
     },
     "execution_count": 98,
     "metadata": {},
     "output_type": "execute_result"
    }
   ],
   "source": [
    "train.production_companies.apply(lambda x: len(x) if x != {} else 0).value_counts() #How many have x amount of production companies for the film"
   ]
  },
  {
   "cell_type": "code",
   "execution_count": 108,
   "metadata": {},
   "outputs": [
    {
     "data": {
      "text/plain": [
       "0       Metro-Goldwyn-Mayer (MGM) Paramount Pictures U...\n",
       "1                                    Walt Disney Pictures\n",
       "2       Blumhouse Productions Bold Films Right of Way ...\n",
       "3                                                        \n",
       "4                                                        \n",
       "5                                                        \n",
       "6              Ghost House Pictures North Box Productions\n",
       "7                                                        \n",
       "8       Jim Henson Company, The Jim Henson Productions...\n",
       "9                               Castle Rock Entertainment\n",
       "10                                         United Artists\n",
       "11      Amercent Films American Entertainment Partners...\n",
       "12                     DreamWorks SKG Jinks/Cohen Company\n",
       "13      Double Feature Films Jersey Films Metro-Goldwy...\n",
       "14      Amblin Entertainment Blue Tulip Productions Cr...\n",
       "15                                             Hypnopolis\n",
       "16      BenderSpink Craven-Maddalena Films DreamWorks SKG\n",
       "17      BBC Films Headline Pictures Magnolia Mae Films...\n",
       "18      Aegis Film Fund Kaleidoscope Films Prescience ...\n",
       "19      Canal+ Current Entertainment EuropaCorp Sea Si...\n",
       "20      Irwin Allen Productions New Line Cinema Prelud...\n",
       "21                   Jason Productions Paramount Pictures\n",
       "22      8383 Productions Bloody Disgusting The Collective\n",
       "23      G.C. Pix   Braeburn Entertainment  Check Enter...\n",
       "24           Live Stock Films New Zealand Film Commission\n",
       "25      Dark Horse Entertainment JVC Entertainment Net...\n",
       "26      Jasmine Productions Inc. Jean Doumanian Produc...\n",
       "27            Caramel Film Fastnet Films No Trace Camping\n",
       "28      De Laurentiis Entertainment Group (DEG) Hasbro...\n",
       "29                                     Paramount Pictures\n",
       "                              ...                        \n",
       "2970         Kasdan Pictures Tig Productions Warner Bros.\n",
       "2971                                  Touchstone Pictures\n",
       "2972    Beijing Poly-bona Film Publishing Company Chin...\n",
       "2973        Silver Screen Partners II Touchstone Pictures\n",
       "2974    Boll Kino Beteiligungs GmbH & Co. KG Brightlig...\n",
       "2975    Josephson Entertainment New Upstairs Productio...\n",
       "2976                   Code Entertainment Neverland Films\n",
       "2977    AE Two Film Productions Angel Eyes Productions...\n",
       "2978    Channel Four Films Goldwyn Films Killer Films ...\n",
       "2979                             CBS Films Escape Artists\n",
       "2980                   Full On Studios Pauly Jr. Pictures\n",
       "2981                Gettin' Rad Productions Park Pictures\n",
       "2982                           Super Crispy Entertainment\n",
       "2983    Icon Entertainment International Studio Trite ...\n",
       "2984    Camelot Pictures Chris Lee Productions Columbi...\n",
       "2985           Revolution Studios Scott Rudin Productions\n",
       "2986    Icon Entertainment International Icon Producti...\n",
       "2987                                    Concorde Pictures\n",
       "2988                         Abbas Kiarostami Productions\n",
       "2989    Crest Animation Productions NEST Family Entert...\n",
       "2990                      Island Pictures New Line Cinema\n",
       "2991                    Cort/Madden Productions MTV Films\n",
       "2992                           Douglas Fairbanks Pictures\n",
       "2993    Amblin Entertainment DreamWorks SKG Parkes/Mac...\n",
       "2994                                   Paramount Pictures\n",
       "2995                Morgan Creek Productions Warner Bros.\n",
       "2996                              Film i Väst Memfis Film\n",
       "2997        Forge New Line Cinema The Steve Tisch Company\n",
       "2998                      Jersey Films Loofah Productions\n",
       "2999    Gotham Group Lions Gate Films Mango Farms Quic...\n",
       "Name: production_companies, Length: 3000, dtype: object"
      ]
     },
     "execution_count": 108,
     "metadata": {},
     "output_type": "execute_result"
    }
   ],
   "source": [
    "train.production_companies.apply(lambda x: ' '.join(sorted([i['name'] for i in x])) if x != {} else '')"
   ]
  },
  {
   "cell_type": "code",
   "execution_count": null,
   "metadata": {},
   "outputs": [],
   "source": [
    "list(train['production_companies'].apply(lambda x: [i['name'] for i in x] if x != {} else []).values)"
   ]
  },
  {
   "cell_type": "code",
   "execution_count": 115,
   "metadata": {},
   "outputs": [],
   "source": [
    "list_of_companies = list(train['production_companies'].apply(lambda x: [i['name'] for i in x] if x != {} else []).values)"
   ]
  },
  {
   "cell_type": "code",
   "execution_count": 123,
   "metadata": {},
   "outputs": [
    {
     "data": {
      "text/plain": [
       "[['Paramount Pictures', 'United Artists', 'Metro-Goldwyn-Mayer (MGM)'],\n",
       " ['Walt Disney Pictures'],\n",
       " ['Bold Films', 'Blumhouse Productions', 'Right of Way Films'],\n",
       " [],\n",
       " [],\n",
       " [],\n",
       " ['Ghost House Pictures', 'North Box Productions'],\n",
       " [],\n",
       " ['Walt Disney Pictures', 'Jim Henson Productions', 'Jim Henson Company, The'],\n",
       " ['Castle Rock Entertainment']]"
      ]
     },
     "execution_count": 123,
     "metadata": {},
     "output_type": "execute_result"
    }
   ],
   "source": [
    "list_of_companies[:10]"
   ]
  },
  {
   "cell_type": "code",
   "execution_count": 122,
   "metadata": {},
   "outputs": [
    {
     "ename": "TypeError",
     "evalue": "unhashable type: 'list'",
     "output_type": "error",
     "traceback": [
      "\u001b[0;31m---------------------------------------------------------------------------\u001b[0m",
      "\u001b[0;31mTypeError\u001b[0m                                 Traceback (most recent call last)",
      "\u001b[0;32m<ipython-input-122-26ea44f0b344>\u001b[0m in \u001b[0;36m<module>\u001b[0;34m()\u001b[0m\n\u001b[0;32m----> 1\u001b[0;31m \u001b[0mtop_companies\u001b[0m \u001b[0;34m=\u001b[0m \u001b[0;34m[\u001b[0m\u001b[0mm\u001b[0m\u001b[0;34m[\u001b[0m\u001b[0;36m0\u001b[0m\u001b[0;34m]\u001b[0m \u001b[0;32mfor\u001b[0m \u001b[0mm\u001b[0m \u001b[0;32min\u001b[0m \u001b[0mCounter\u001b[0m\u001b[0;34m(\u001b[0m\u001b[0;34m[\u001b[0m\u001b[0mlist_of_companies\u001b[0m\u001b[0;34m]\u001b[0m\u001b[0;34m)\u001b[0m\u001b[0;34m.\u001b[0m\u001b[0mmost_common\u001b[0m\u001b[0;34m(\u001b[0m\u001b[0;36m30\u001b[0m\u001b[0;34m)\u001b[0m\u001b[0;34m]\u001b[0m\u001b[0;34m\u001b[0m\u001b[0;34m\u001b[0m\u001b[0m\n\u001b[0m\u001b[1;32m      2\u001b[0m \u001b[0;31m#for g in top_companies:\u001b[0m\u001b[0;34m\u001b[0m\u001b[0;34m\u001b[0m\u001b[0;34m\u001b[0m\u001b[0m\n\u001b[1;32m      3\u001b[0m \u001b[0;31m#    train['production_company_' + g] = train['all_production_companies'].apply(lambda x: 1 if g in x else 0)\u001b[0m\u001b[0;34m\u001b[0m\u001b[0;34m\u001b[0m\u001b[0;34m\u001b[0m\u001b[0m\n\u001b[1;32m      4\u001b[0m \u001b[0mtop_companies\u001b[0m\u001b[0;34m\u001b[0m\u001b[0;34m\u001b[0m\u001b[0m\n",
      "\u001b[0;32m~/anaconda3/lib/python3.6/collections/__init__.py\u001b[0m in \u001b[0;36m__init__\u001b[0;34m(*args, **kwds)\u001b[0m\n\u001b[1;32m    533\u001b[0m             \u001b[0;32mraise\u001b[0m \u001b[0mTypeError\u001b[0m\u001b[0;34m(\u001b[0m\u001b[0;34m'expected at most 1 arguments, got %d'\u001b[0m \u001b[0;34m%\u001b[0m \u001b[0mlen\u001b[0m\u001b[0;34m(\u001b[0m\u001b[0margs\u001b[0m\u001b[0;34m)\u001b[0m\u001b[0;34m)\u001b[0m\u001b[0;34m\u001b[0m\u001b[0;34m\u001b[0m\u001b[0m\n\u001b[1;32m    534\u001b[0m         \u001b[0msuper\u001b[0m\u001b[0;34m(\u001b[0m\u001b[0mCounter\u001b[0m\u001b[0;34m,\u001b[0m \u001b[0mself\u001b[0m\u001b[0;34m)\u001b[0m\u001b[0;34m.\u001b[0m\u001b[0m__init__\u001b[0m\u001b[0;34m(\u001b[0m\u001b[0;34m)\u001b[0m\u001b[0;34m\u001b[0m\u001b[0;34m\u001b[0m\u001b[0m\n\u001b[0;32m--> 535\u001b[0;31m         \u001b[0mself\u001b[0m\u001b[0;34m.\u001b[0m\u001b[0mupdate\u001b[0m\u001b[0;34m(\u001b[0m\u001b[0;34m*\u001b[0m\u001b[0margs\u001b[0m\u001b[0;34m,\u001b[0m \u001b[0;34m**\u001b[0m\u001b[0mkwds\u001b[0m\u001b[0;34m)\u001b[0m\u001b[0;34m\u001b[0m\u001b[0;34m\u001b[0m\u001b[0m\n\u001b[0m\u001b[1;32m    536\u001b[0m \u001b[0;34m\u001b[0m\u001b[0m\n\u001b[1;32m    537\u001b[0m     \u001b[0;32mdef\u001b[0m \u001b[0m__missing__\u001b[0m\u001b[0;34m(\u001b[0m\u001b[0mself\u001b[0m\u001b[0;34m,\u001b[0m \u001b[0mkey\u001b[0m\u001b[0;34m)\u001b[0m\u001b[0;34m:\u001b[0m\u001b[0;34m\u001b[0m\u001b[0;34m\u001b[0m\u001b[0m\n",
      "\u001b[0;32m~/anaconda3/lib/python3.6/collections/__init__.py\u001b[0m in \u001b[0;36mupdate\u001b[0;34m(*args, **kwds)\u001b[0m\n\u001b[1;32m    620\u001b[0m                     \u001b[0msuper\u001b[0m\u001b[0;34m(\u001b[0m\u001b[0mCounter\u001b[0m\u001b[0;34m,\u001b[0m \u001b[0mself\u001b[0m\u001b[0;34m)\u001b[0m\u001b[0;34m.\u001b[0m\u001b[0mupdate\u001b[0m\u001b[0;34m(\u001b[0m\u001b[0miterable\u001b[0m\u001b[0;34m)\u001b[0m \u001b[0;31m# fast path when counter is empty\u001b[0m\u001b[0;34m\u001b[0m\u001b[0;34m\u001b[0m\u001b[0m\n\u001b[1;32m    621\u001b[0m             \u001b[0;32melse\u001b[0m\u001b[0;34m:\u001b[0m\u001b[0;34m\u001b[0m\u001b[0;34m\u001b[0m\u001b[0m\n\u001b[0;32m--> 622\u001b[0;31m                 \u001b[0m_count_elements\u001b[0m\u001b[0;34m(\u001b[0m\u001b[0mself\u001b[0m\u001b[0;34m,\u001b[0m \u001b[0miterable\u001b[0m\u001b[0;34m)\u001b[0m\u001b[0;34m\u001b[0m\u001b[0;34m\u001b[0m\u001b[0m\n\u001b[0m\u001b[1;32m    623\u001b[0m         \u001b[0;32mif\u001b[0m \u001b[0mkwds\u001b[0m\u001b[0;34m:\u001b[0m\u001b[0;34m\u001b[0m\u001b[0;34m\u001b[0m\u001b[0m\n\u001b[1;32m    624\u001b[0m             \u001b[0mself\u001b[0m\u001b[0;34m.\u001b[0m\u001b[0mupdate\u001b[0m\u001b[0;34m(\u001b[0m\u001b[0mkwds\u001b[0m\u001b[0;34m)\u001b[0m\u001b[0;34m\u001b[0m\u001b[0;34m\u001b[0m\u001b[0m\n",
      "\u001b[0;31mTypeError\u001b[0m: unhashable type: 'list'"
     ]
    }
   ],
   "source": [
    "top_companies = [m[0] for m in Counter([i for j in list_of_companies for i in j]).most_common(30)]\n",
    "#for g in top_companies:\n",
    "#    train['production_company_' + g] = train['all_production_companies'].apply(lambda x: 1 if g in x else 0)\n",
    "top_companies"
   ]
  },
  {
   "cell_type": "code",
   "execution_count": null,
   "metadata": {},
   "outputs": [],
   "source": []
  },
  {
   "cell_type": "code",
   "execution_count": null,
   "metadata": {},
   "outputs": [],
   "source": []
  },
  {
   "cell_type": "code",
   "execution_count": null,
   "metadata": {},
   "outputs": [],
   "source": []
  },
  {
   "cell_type": "code",
   "execution_count": null,
   "metadata": {},
   "outputs": [],
   "source": []
  },
  {
   "cell_type": "code",
   "execution_count": 33,
   "metadata": {},
   "outputs": [
    {
     "data": {
      "text/plain": [
       "\"[{'id': 35, 'name': 'Comedy'}, {'id': 18, 'name': 'Drama'}, {'id': 10751, 'name': 'Family'}, {'id': 10749, 'name': 'Romance'}]\""
      ]
     },
     "execution_count": 33,
     "metadata": {},
     "output_type": "execute_result"
    }
   ],
   "source": [
    "#This column only has 1 relevant key but several relevant values attached to that key.\n",
    "train['genres'][1]"
   ]
  },
  {
   "cell_type": "code",
   "execution_count": 7,
   "metadata": {},
   "outputs": [
    {
     "data": {
      "text/plain": [
       "\"[{'cast_id': 4, 'character': 'Lou', 'credit_id': '52fe4ee7c3a36847f82afae7', 'gender': 2, 'id': 52997, 'name': 'Rob Corddry', 'order': 0, 'profile_path': '/k2zJL0V1nEZuFT08xUdOd3ucfXz.jpg'}, {'cast_id': 5, 'character': 'Nick', 'credit_id': '52fe4ee7c3a36847f82afaeb', 'gender': 2, 'id': 64342, 'name': 'Craig Robinson', 'order': 1, 'profile_path': '/tVaRMkJXOEVhYxtnnFuhqW0Rjzz.jpg'}, {'cast_id': 6, \""
      ]
     },
     "execution_count": 7,
     "metadata": {},
     "output_type": "execute_result"
    }
   ],
   "source": [
    "#Some of these columns have relevant info in more than one key.\n",
    "#i.e. 'cast' has relevant info in the 'character' and 'name' keys.\n",
    "train['cast'][0][:400]"
   ]
  },
  {
   "cell_type": "code",
   "execution_count": 8,
   "metadata": {},
   "outputs": [],
   "source": [
    "def get_column_info(series, keys):\n",
    "    '''\n",
    "    Allows returned column to replacd the relevant df column in place\n",
    "    or as a new Series. Allows for further counting with the gather function.\n",
    "    \n",
    "    Parameters:\n",
    "    series (pd.Series) The relevant column from the DataFrame.\n",
    "    keys (list) Can be a list of just 1 or several keys to search for.\n",
    "    \n",
    "    Returns:\n",
    "    column (pd.Series) Each row has a new dict with lists of values associated \n",
    "    with each given key.\n",
    "    '''\n",
    "    column = copy.deepcopy(series)\n",
    "    for index, data in column.iteritems():\n",
    "        #Populate this row of the new df with the new dict\n",
    "        #Calls the get_info method\n",
    "        column.at[index] = get_info(data, keys)\n",
    "    return column\n",
    "\n",
    "def get_info(row, keys):\n",
    "    '''\n",
    "    Pulls the values from each key into a new list for each key.\n",
    "    \n",
    "    Parameters:\n",
    "    row (str) String to be evaluated as list of dicts.\n",
    "    keys (list) Can be a list of just 1 or several keys to search for.\n",
    "    \n",
    "    Returns:\n",
    "    info (dict) The values of the relevant keys as new lists.\n",
    "    '''\n",
    "    #if the data can be turned into a list or dict\n",
    "    if row != '':\n",
    "        #New empty dict of lists\n",
    "        info = {}\n",
    "        #For each of the provided keys \n",
    "        for key in keys:\n",
    "            #\n",
    "            info[key] = []\n",
    "            #Turn data into list of dicts\n",
    "            list_of_dicts = ast.literal_eval(row)\n",
    "            #Read each dict\n",
    "            for dic in list_of_dicts:\n",
    "                #Add the info from the provided key to the list of info\n",
    "                info[key].append(dic[key])\n",
    "        #Return the list of info matching the key from every row\n",
    "        return info\n",
    "\n",
    "def gather(column, keys):\n",
    "    '''\n",
    "    Gathers up all values sassociated with each key across all rows\n",
    "    in the column into a single list. Each list is added to a new dict.\n",
    "    \n",
    "    Parameters:\n",
    "    column (pd.Series) Column of rows to iterate over.\n",
    "    \n",
    "    keys (list) Can be a list of just 1 or several keys to search for.\n",
    "    \n",
    "    Returns:\n",
    "    info_lists (dict) Dictionaries of lists of values associated with each key.\n",
    "    '''\n",
    "    #New dict of lists\n",
    "    info_lists = {}\n",
    "    \n",
    "    #New empty list for each key in keys\n",
    "    for key in keys:\n",
    "        info_lists[key] = [] \n",
    "    \n",
    "    #Iterate over each key in the list. Allows for one or several keys.\n",
    "    for index, data in column.iteritems():\n",
    "        for key in keys:\n",
    "            #If row isn't blank\n",
    "            if data:\n",
    "                #Add the values to the list for that key\n",
    "                info_lists[key].extend(data[key])\n",
    "    \n",
    "    return info_lists"
   ]
  },
  {
   "cell_type": "code",
   "execution_count": 9,
   "metadata": {},
   "outputs": [],
   "source": [
    "#Get the value counts for 'name' key in each column.\n",
    "#Also get the separate 'character' and 'actor' counts \n",
    "#from the 'cast' column.\n",
    "belongs_to_collection = get_column_info(train['belongs_to_collection'].fillna(''), ['name'])\n",
    "collection_counts = pd.Series(gather(belongs_to_collection, ['name'])['name']).value_counts()\n",
    "\n",
    "genres = get_column_info(train['genres'].fillna(''), ['name'])\n",
    "genre_counts = pd.Series(gather(genres, ['name'])['name']).value_counts()\n",
    "\n",
    "production_companies = get_column_info(train['production_companies'].fillna(''), ['name'])\n",
    "company_counts = pd.Series(gather(production_companies, ['name'])['name']).value_counts()\n",
    "\n",
    "production_countries = get_column_info(train['production_countries'].fillna(''), ['name'])\n",
    "country_counts = pd.Series(gather(production_countries, ['name'])['name']).value_counts()\n",
    "\n",
    "spoken_languages = get_column_info(train['spoken_languages'].fillna(''), ['name'])\n",
    "language_counts = pd.Series(gather(spoken_languages, ['name'])['name']).value_counts()\n",
    "\n",
    "keywords = get_column_info(train['Keywords'].fillna(''), ['name'])\n",
    "keyword_counts = pd.Series(gather(keywords, ['name'])['name']).value_counts()\n",
    "\n",
    "cast = get_column_info(train['cast'].fillna(''), ['character', 'name'])\n",
    "actor_counts = pd.Series(gather(cast, ['name'])['name']).value_counts()\n",
    "character_counts = pd.Series(gather(cast, ['character'])['character']).value_counts()"
   ]
  },
  {
   "cell_type": "code",
   "execution_count": 36,
   "metadata": {},
   "outputs": [
    {
     "data": {
      "text/plain": [
       "['English', 'Français', 'Italiano']"
      ]
     },
     "execution_count": 36,
     "metadata": {},
     "output_type": "execute_result"
    }
   ],
   "source": [
    "spoken_languages[19]['name']"
   ]
  },
  {
   "cell_type": "code",
   "execution_count": 23,
   "metadata": {},
   "outputs": [
    {
     "name": "stdout",
     "output_type": "stream",
     "text": [
      "(422,) different collections\n"
     ]
    },
    {
     "data": {
      "text/plain": [
       "James Bond Collection                        16\n",
       "Friday the 13th Collection                    7\n",
       "The Pink Panther (Original) Collection        6\n",
       "Police Academy Collection                     5\n",
       "Pokémon Collection                            5\n",
       "Resident Evil Collection                      4\n",
       "Paranormal Activity Collection                4\n",
       "Alien Collection                              4\n",
       "Transformers Collection                       4\n",
       "Ice Age Collection                            4\n",
       "Rocky Collection                              4\n",
       "The Fast and the Furious Collection           4\n",
       "Child's Play Collection                       4\n",
       "Rambo Collection                              4\n",
       "The Vengeance Collection                      3\n",
       "The Dark Knight Collection                    3\n",
       "Three Heroes Collection                       3\n",
       "Alex Cross Collection                         3\n",
       "[REC] Collection                              3\n",
       "Star Trek: The Original Series Collection     3\n",
       "dtype: int64"
      ]
     },
     "execution_count": 23,
     "metadata": {},
     "output_type": "execute_result"
    }
   ],
   "source": [
    "print(collection_counts.shape, 'different collections')\n",
    "collection_counts[:20]"
   ]
  },
  {
   "cell_type": "code",
   "execution_count": 43,
   "metadata": {},
   "outputs": [
    {
     "name": "stdout",
     "output_type": "stream",
     "text": [
      "Star Trek: The Original Series Collection    3\n",
      "Star Trek: The Next Generation Collection    1\n",
      "dtype: int64\n",
      "Star Wars Collection    2\n",
      "dtype: int64\n"
     ]
    }
   ],
   "source": [
    "#How clean are these collection names? Is there any redundancy to clean up?\n",
    "print(collection_counts[collection_counts.index.str.contains('Star Trek')])\n",
    "print(collection_counts[collection_counts.index.str.contains('Star Wars')])"
   ]
  },
  {
   "cell_type": "code",
   "execution_count": 25,
   "metadata": {},
   "outputs": [
    {
     "name": "stdout",
     "output_type": "stream",
     "text": [
      "(38588,) different actors\n"
     ]
    },
    {
     "data": {
      "text/plain": [
       "Samuel L. Jackson     30\n",
       "Robert De Niro        30\n",
       "Morgan Freeman        27\n",
       "J.K. Simmons          25\n",
       "Liam Neeson           25\n",
       "Bruce Willis          25\n",
       "Susan Sarandon        25\n",
       "John Turturro         24\n",
       "Bruce McGill          24\n",
       "Willem Dafoe          23\n",
       "Forest Whitaker       23\n",
       "Nicolas Cage          22\n",
       "Bill Murray           22\n",
       "Owen Wilson           22\n",
       "Jason Statham         21\n",
       "Keith David           21\n",
       "Mel Gibson            21\n",
       "Sylvester Stallone    21\n",
       "Sigourney Weaver      21\n",
       "John Goodman          21\n",
       "dtype: int64"
      ]
     },
     "execution_count": 25,
     "metadata": {},
     "output_type": "execute_result"
    }
   ],
   "source": [
    "print(actor_counts.shape, 'different actors')\n",
    "actor_counts[:20]"
   ]
  },
  {
   "cell_type": "code",
   "execution_count": 46,
   "metadata": {},
   "outputs": [
    {
     "data": {
      "text/plain": [
       "Willem Dafoe    23\n",
       "dtype: int64"
      ]
     },
     "execution_count": 46,
     "metadata": {},
     "output_type": "execute_result"
    }
   ],
   "source": [
    "#Are there any typos e.g. 'William Dafoe'\n",
    "actor_counts[actor_counts.index.str.contains('Dafoe')]"
   ]
  },
  {
   "cell_type": "code",
   "execution_count": 61,
   "metadata": {},
   "outputs": [
    {
     "data": {
      "text/plain": [
       "(44422,)"
      ]
     },
     "execution_count": 61,
     "metadata": {},
     "output_type": "execute_result"
    }
   ],
   "source": [
    "character_counts.shape"
   ]
  },
  {
   "cell_type": "code",
   "execution_count": null,
   "metadata": {},
   "outputs": [],
   "source": []
  },
  {
   "cell_type": "code",
   "execution_count": null,
   "metadata": {},
   "outputs": [],
   "source": []
  },
  {
   "cell_type": "code",
   "execution_count": null,
   "metadata": {},
   "outputs": [],
   "source": []
  },
  {
   "cell_type": "code",
   "execution_count": null,
   "metadata": {},
   "outputs": [],
   "source": []
  },
  {
   "cell_type": "code",
   "execution_count": null,
   "metadata": {},
   "outputs": [],
   "source": []
  },
  {
   "cell_type": "code",
   "execution_count": null,
   "metadata": {},
   "outputs": [],
   "source": []
  }
 ],
 "metadata": {
  "kernelspec": {
   "display_name": "Python 3",
   "language": "python",
   "name": "python3"
  },
  "language_info": {
   "codemirror_mode": {
    "name": "ipython",
    "version": 3
   },
   "file_extension": ".py",
   "mimetype": "text/x-python",
   "name": "python",
   "nbconvert_exporter": "python",
   "pygments_lexer": "ipython3",
   "version": "3.6.8"
  }
 },
 "nbformat": 4,
 "nbformat_minor": 2
}
